{
 "cells": [
  {
   "cell_type": "code",
   "execution_count": 1,
   "id": "0b6ef2e0-f0f0-43c4-bfe5-2bb74dc80ed0",
   "metadata": {},
   "outputs": [],
   "source": [
    "#Importing libraries\n",
    "import pandas as pd\n",
    "import numpy as np\n",
    "import matplotlib.pyplot as plt\n",
    "import seaborn as sns\n",
    "from collections import Counter"
   ]
  },
  {
   "cell_type": "code",
   "execution_count": 2,
   "id": "f8e83b74-b9b3-4527-bc61-6d814a710465",
   "metadata": {},
   "outputs": [],
   "source": [
    "#Read csv files\n",
    "comm=pd.read_csv(r\"C:\\Users\\Abhis\\OneDrive\\Desktop\\instagram_data\\comments.csv\")\n",
    "foll=pd.read_csv(r\"C:\\Users\\Abhis\\OneDrive\\Desktop\\instagram_data\\follows.csv\") \n",
    "like=pd.read_csv(r\"C:\\Users\\Abhis\\OneDrive\\Desktop\\instagram_data\\likes.csv\") \n",
    "photo=pd.read_csv(r\"C:\\Users\\Abhis\\OneDrive\\Desktop\\instagram_data\\photos.csv\") \n",
    "tag=pd.read_csv(r\"C:\\Users\\Abhis\\OneDrive\\Desktop\\instagram_data\\tags.csv\") \n",
    "user=pd.read_csv(r\"C:\\Users\\Abhis\\OneDrive\\Desktop\\instagram_data\\users.csv\") "
   ]
  },
  {
   "cell_type": "code",
   "execution_count": 3,
   "id": "5db2d3fa-6ef8-4881-acff-d905ffb6829d",
   "metadata": {},
   "outputs": [
    {
     "data": {
      "text/html": [
       "<div>\n",
       "<style scoped>\n",
       "    .dataframe tbody tr th:only-of-type {\n",
       "        vertical-align: middle;\n",
       "    }\n",
       "\n",
       "    .dataframe tbody tr th {\n",
       "        vertical-align: top;\n",
       "    }\n",
       "\n",
       "    .dataframe thead th {\n",
       "        text-align: right;\n",
       "    }\n",
       "</style>\n",
       "<table border=\"1\" class=\"dataframe\">\n",
       "  <thead>\n",
       "    <tr style=\"text-align: right;\">\n",
       "      <th></th>\n",
       "      <th>id</th>\n",
       "      <th>comment</th>\n",
       "      <th>User  id</th>\n",
       "      <th>Photo id</th>\n",
       "      <th>created Timestamp</th>\n",
       "      <th>posted date</th>\n",
       "      <th>emoji used</th>\n",
       "      <th>Hashtags used count</th>\n",
       "    </tr>\n",
       "  </thead>\n",
       "  <tbody>\n",
       "    <tr>\n",
       "      <th>0</th>\n",
       "      <td>1</td>\n",
       "      <td>unde at dolorem</td>\n",
       "      <td>2</td>\n",
       "      <td>1</td>\n",
       "      <td>13-04-2023 08:04</td>\n",
       "      <td>April 14</td>\n",
       "      <td>yes</td>\n",
       "      <td>1</td>\n",
       "    </tr>\n",
       "    <tr>\n",
       "      <th>1</th>\n",
       "      <td>2</td>\n",
       "      <td>quae ea ducimus</td>\n",
       "      <td>3</td>\n",
       "      <td>1</td>\n",
       "      <td>13-04-2023 08:04</td>\n",
       "      <td>April 14</td>\n",
       "      <td>no</td>\n",
       "      <td>2</td>\n",
       "    </tr>\n",
       "    <tr>\n",
       "      <th>2</th>\n",
       "      <td>3</td>\n",
       "      <td>alias a voluptatum</td>\n",
       "      <td>5</td>\n",
       "      <td>1</td>\n",
       "      <td>13-04-2023 08:04</td>\n",
       "      <td>April 14</td>\n",
       "      <td>no</td>\n",
       "      <td>4</td>\n",
       "    </tr>\n",
       "    <tr>\n",
       "      <th>3</th>\n",
       "      <td>4</td>\n",
       "      <td>facere suscipit sunt</td>\n",
       "      <td>14</td>\n",
       "      <td>1</td>\n",
       "      <td>13-04-2023 08:04</td>\n",
       "      <td>April 14</td>\n",
       "      <td>yes</td>\n",
       "      <td>2</td>\n",
       "    </tr>\n",
       "    <tr>\n",
       "      <th>4</th>\n",
       "      <td>5</td>\n",
       "      <td>totam eligendi quaerat</td>\n",
       "      <td>17</td>\n",
       "      <td>1</td>\n",
       "      <td>13-04-2023 08:04</td>\n",
       "      <td>April 14</td>\n",
       "      <td>yes</td>\n",
       "      <td>1</td>\n",
       "    </tr>\n",
       "  </tbody>\n",
       "</table>\n",
       "</div>"
      ],
      "text/plain": [
       "   id                 comment  User  id  Photo id created Timestamp  \\\n",
       "0   1         unde at dolorem         2         1  13-04-2023 08:04   \n",
       "1   2         quae ea ducimus         3         1  13-04-2023 08:04   \n",
       "2   3      alias a voluptatum         5         1  13-04-2023 08:04   \n",
       "3   4    facere suscipit sunt        14         1  13-04-2023 08:04   \n",
       "4   5  totam eligendi quaerat        17         1  13-04-2023 08:04   \n",
       "\n",
       "  posted date emoji used  Hashtags used count  \n",
       "0    April 14        yes                    1  \n",
       "1    April 14         no                    2  \n",
       "2    April 14         no                    4  \n",
       "3    April 14        yes                    2  \n",
       "4    April 14        yes                    1  "
      ]
     },
     "execution_count": 3,
     "metadata": {},
     "output_type": "execute_result"
    }
   ],
   "source": [
    "comm.head()"
   ]
  },
  {
   "cell_type": "code",
   "execution_count": 4,
   "id": "6debf746-37ad-42fa-a093-3654c7780c71",
   "metadata": {},
   "outputs": [
    {
     "data": {
      "text/html": [
       "<div>\n",
       "<style scoped>\n",
       "    .dataframe tbody tr th:only-of-type {\n",
       "        vertical-align: middle;\n",
       "    }\n",
       "\n",
       "    .dataframe tbody tr th {\n",
       "        vertical-align: top;\n",
       "    }\n",
       "\n",
       "    .dataframe thead th {\n",
       "        text-align: right;\n",
       "    }\n",
       "</style>\n",
       "<table border=\"1\" class=\"dataframe\">\n",
       "  <thead>\n",
       "    <tr style=\"text-align: right;\">\n",
       "      <th></th>\n",
       "      <th>follower</th>\n",
       "      <th>followee</th>\n",
       "      <th>created time</th>\n",
       "      <th>is follower active</th>\n",
       "      <th>followee Acc status</th>\n",
       "    </tr>\n",
       "  </thead>\n",
       "  <tbody>\n",
       "    <tr>\n",
       "      <th>0</th>\n",
       "      <td>2</td>\n",
       "      <td>1</td>\n",
       "      <td>13-04-2023 08:04</td>\n",
       "      <td>1</td>\n",
       "      <td>Private</td>\n",
       "    </tr>\n",
       "    <tr>\n",
       "      <th>1</th>\n",
       "      <td>2</td>\n",
       "      <td>3</td>\n",
       "      <td>13-04-2023 08:04</td>\n",
       "      <td>0</td>\n",
       "      <td>private</td>\n",
       "    </tr>\n",
       "    <tr>\n",
       "      <th>2</th>\n",
       "      <td>2</td>\n",
       "      <td>4</td>\n",
       "      <td>13-04-2023 08:04</td>\n",
       "      <td>0</td>\n",
       "      <td>public</td>\n",
       "    </tr>\n",
       "    <tr>\n",
       "      <th>3</th>\n",
       "      <td>2</td>\n",
       "      <td>5</td>\n",
       "      <td>13-04-2023 08:04</td>\n",
       "      <td>0</td>\n",
       "      <td>private</td>\n",
       "    </tr>\n",
       "    <tr>\n",
       "      <th>4</th>\n",
       "      <td>2</td>\n",
       "      <td>6</td>\n",
       "      <td>13-04-2023 08:04</td>\n",
       "      <td>1</td>\n",
       "      <td>private</td>\n",
       "    </tr>\n",
       "  </tbody>\n",
       "</table>\n",
       "</div>"
      ],
      "text/plain": [
       "   follower  followee       created time  is follower active  \\\n",
       "0         2          1  13-04-2023 08:04                   1   \n",
       "1         2          3  13-04-2023 08:04                   0   \n",
       "2         2          4  13-04-2023 08:04                   0   \n",
       "3         2          5  13-04-2023 08:04                   0   \n",
       "4         2          6  13-04-2023 08:04                   1   \n",
       "\n",
       "  followee Acc status  \n",
       "0             Private  \n",
       "1             private  \n",
       "2              public  \n",
       "3             private  \n",
       "4             private  "
      ]
     },
     "execution_count": 4,
     "metadata": {},
     "output_type": "execute_result"
    }
   ],
   "source": [
    "foll.head()"
   ]
  },
  {
   "cell_type": "code",
   "execution_count": 5,
   "id": "ddc42a59-d67b-43e8-a5b5-92fe07292fee",
   "metadata": {},
   "outputs": [
    {
     "data": {
      "text/html": [
       "<div>\n",
       "<style scoped>\n",
       "    .dataframe tbody tr th:only-of-type {\n",
       "        vertical-align: middle;\n",
       "    }\n",
       "\n",
       "    .dataframe tbody tr th {\n",
       "        vertical-align: top;\n",
       "    }\n",
       "\n",
       "    .dataframe thead th {\n",
       "        text-align: right;\n",
       "    }\n",
       "</style>\n",
       "<table border=\"1\" class=\"dataframe\">\n",
       "  <thead>\n",
       "    <tr style=\"text-align: right;\">\n",
       "      <th></th>\n",
       "      <th>user</th>\n",
       "      <th>photo</th>\n",
       "      <th>created time</th>\n",
       "      <th>following or not</th>\n",
       "      <th>like type</th>\n",
       "    </tr>\n",
       "  </thead>\n",
       "  <tbody>\n",
       "    <tr>\n",
       "      <th>0</th>\n",
       "      <td>2</td>\n",
       "      <td>1</td>\n",
       "      <td>13-04-2023 08:04</td>\n",
       "      <td>yes</td>\n",
       "      <td>heart emoji</td>\n",
       "    </tr>\n",
       "    <tr>\n",
       "      <th>1</th>\n",
       "      <td>2</td>\n",
       "      <td>4</td>\n",
       "      <td>13-04-2023 08:04</td>\n",
       "      <td>no</td>\n",
       "      <td>thumbs up</td>\n",
       "    </tr>\n",
       "    <tr>\n",
       "      <th>2</th>\n",
       "      <td>2</td>\n",
       "      <td>8</td>\n",
       "      <td>13-04-2023 08:04</td>\n",
       "      <td>yes</td>\n",
       "      <td>laughing</td>\n",
       "    </tr>\n",
       "    <tr>\n",
       "      <th>3</th>\n",
       "      <td>2</td>\n",
       "      <td>9</td>\n",
       "      <td>13-04-2023 08:04</td>\n",
       "      <td>no</td>\n",
       "      <td>fire</td>\n",
       "    </tr>\n",
       "    <tr>\n",
       "      <th>4</th>\n",
       "      <td>2</td>\n",
       "      <td>10</td>\n",
       "      <td>13-04-2023 08:04</td>\n",
       "      <td>yes</td>\n",
       "      <td>clap</td>\n",
       "    </tr>\n",
       "  </tbody>\n",
       "</table>\n",
       "</div>"
      ],
      "text/plain": [
       "   user   photo      created time following or not    like type\n",
       "0      2      1  13-04-2023 08:04              yes  heart emoji\n",
       "1      2      4  13-04-2023 08:04               no    thumbs up\n",
       "2      2      8  13-04-2023 08:04              yes     laughing\n",
       "3      2      9  13-04-2023 08:04               no         fire\n",
       "4      2     10  13-04-2023 08:04              yes         clap"
      ]
     },
     "execution_count": 5,
     "metadata": {},
     "output_type": "execute_result"
    }
   ],
   "source": [
    "like.head()"
   ]
  },
  {
   "cell_type": "code",
   "execution_count": 7,
   "id": "83b91553-84e0-4033-96c7-6265a343ba4a",
   "metadata": {},
   "outputs": [
    {
     "data": {
      "text/html": [
       "<div>\n",
       "<style scoped>\n",
       "    .dataframe tbody tr th:only-of-type {\n",
       "        vertical-align: middle;\n",
       "    }\n",
       "\n",
       "    .dataframe tbody tr th {\n",
       "        vertical-align: top;\n",
       "    }\n",
       "\n",
       "    .dataframe thead th {\n",
       "        text-align: right;\n",
       "    }\n",
       "</style>\n",
       "<table border=\"1\" class=\"dataframe\">\n",
       "  <thead>\n",
       "    <tr style=\"text-align: right;\">\n",
       "      <th></th>\n",
       "      <th>id</th>\n",
       "      <th>image link</th>\n",
       "      <th>user ID</th>\n",
       "      <th>created dat</th>\n",
       "      <th>Insta filter used</th>\n",
       "      <th>photo type</th>\n",
       "    </tr>\n",
       "  </thead>\n",
       "  <tbody>\n",
       "    <tr>\n",
       "      <th>0</th>\n",
       "      <td>1</td>\n",
       "      <td>http://elijah.biz</td>\n",
       "      <td>1</td>\n",
       "      <td>13-04-2023 08:04</td>\n",
       "      <td>yes</td>\n",
       "      <td>photo</td>\n",
       "    </tr>\n",
       "    <tr>\n",
       "      <th>1</th>\n",
       "      <td>2</td>\n",
       "      <td>https://shanon.org</td>\n",
       "      <td>1</td>\n",
       "      <td>13-04-2023 08:04</td>\n",
       "      <td>no</td>\n",
       "      <td>photo</td>\n",
       "    </tr>\n",
       "    <tr>\n",
       "      <th>2</th>\n",
       "      <td>3</td>\n",
       "      <td>http://vicky.biz</td>\n",
       "      <td>1</td>\n",
       "      <td>13-04-2023 08:04</td>\n",
       "      <td>no</td>\n",
       "      <td>photo</td>\n",
       "    </tr>\n",
       "    <tr>\n",
       "      <th>3</th>\n",
       "      <td>4</td>\n",
       "      <td>http://oleta.net</td>\n",
       "      <td>1</td>\n",
       "      <td>13-04-2023 08:04</td>\n",
       "      <td>no</td>\n",
       "      <td>photo</td>\n",
       "    </tr>\n",
       "    <tr>\n",
       "      <th>4</th>\n",
       "      <td>5</td>\n",
       "      <td>https://jennings.biz</td>\n",
       "      <td>1</td>\n",
       "      <td>13-04-2023 08:04</td>\n",
       "      <td>yes</td>\n",
       "      <td>photo</td>\n",
       "    </tr>\n",
       "  </tbody>\n",
       "</table>\n",
       "</div>"
      ],
      "text/plain": [
       "   id            image link  user ID       created dat Insta filter used  \\\n",
       "0   1     http://elijah.biz        1  13-04-2023 08:04               yes   \n",
       "1   2    https://shanon.org        1  13-04-2023 08:04                no   \n",
       "2   3      http://vicky.biz        1  13-04-2023 08:04                no   \n",
       "3   4      http://oleta.net        1  13-04-2023 08:04                no   \n",
       "4   5  https://jennings.biz        1  13-04-2023 08:04               yes   \n",
       "\n",
       "  photo type  \n",
       "0      photo  \n",
       "1      photo  \n",
       "2      photo  \n",
       "3      photo  \n",
       "4      photo  "
      ]
     },
     "execution_count": 7,
     "metadata": {},
     "output_type": "execute_result"
    }
   ],
   "source": [
    "photo.head()"
   ]
  },
  {
   "cell_type": "code",
   "execution_count": 8,
   "id": "50d966c9-98c7-4999-a70a-d6fcc1f6aafa",
   "metadata": {},
   "outputs": [
    {
     "data": {
      "text/html": [
       "<div>\n",
       "<style scoped>\n",
       "    .dataframe tbody tr th:only-of-type {\n",
       "        vertical-align: middle;\n",
       "    }\n",
       "\n",
       "    .dataframe tbody tr th {\n",
       "        vertical-align: top;\n",
       "    }\n",
       "\n",
       "    .dataframe thead th {\n",
       "        text-align: right;\n",
       "    }\n",
       "</style>\n",
       "<table border=\"1\" class=\"dataframe\">\n",
       "  <thead>\n",
       "    <tr style=\"text-align: right;\">\n",
       "      <th></th>\n",
       "      <th>id</th>\n",
       "      <th>tag text</th>\n",
       "      <th>created time</th>\n",
       "      <th>location</th>\n",
       "    </tr>\n",
       "  </thead>\n",
       "  <tbody>\n",
       "    <tr>\n",
       "      <th>0</th>\n",
       "      <td>1</td>\n",
       "      <td>sunset</td>\n",
       "      <td>13-04-2023 08:04</td>\n",
       "      <td>florida</td>\n",
       "    </tr>\n",
       "    <tr>\n",
       "      <th>1</th>\n",
       "      <td>2</td>\n",
       "      <td>photography</td>\n",
       "      <td>13-04-2023 08:04</td>\n",
       "      <td>washington DC</td>\n",
       "    </tr>\n",
       "    <tr>\n",
       "      <th>2</th>\n",
       "      <td>3</td>\n",
       "      <td>sunrise</td>\n",
       "      <td>13-04-2023 08:04</td>\n",
       "      <td>new york</td>\n",
       "    </tr>\n",
       "    <tr>\n",
       "      <th>3</th>\n",
       "      <td>4</td>\n",
       "      <td>landscape</td>\n",
       "      <td>13-04-2023 08:04</td>\n",
       "      <td>london</td>\n",
       "    </tr>\n",
       "    <tr>\n",
       "      <th>4</th>\n",
       "      <td>5</td>\n",
       "      <td>food</td>\n",
       "      <td>13-04-2023 08:04</td>\n",
       "      <td>brazil</td>\n",
       "    </tr>\n",
       "  </tbody>\n",
       "</table>\n",
       "</div>"
      ],
      "text/plain": [
       "   id     tag text      created time       location\n",
       "0   1       sunset  13-04-2023 08:04        florida\n",
       "1   2  photography  13-04-2023 08:04  washington DC\n",
       "2   3      sunrise  13-04-2023 08:04       new york\n",
       "3   4    landscape  13-04-2023 08:04         london\n",
       "4   5         food  13-04-2023 08:04         brazil"
      ]
     },
     "execution_count": 8,
     "metadata": {},
     "output_type": "execute_result"
    }
   ],
   "source": [
    "tag.head()"
   ]
  },
  {
   "cell_type": "code",
   "execution_count": 9,
   "id": "41183289-37ad-4a4b-99af-bed5664e3e58",
   "metadata": {},
   "outputs": [
    {
     "data": {
      "text/html": [
       "<div>\n",
       "<style scoped>\n",
       "    .dataframe tbody tr th:only-of-type {\n",
       "        vertical-align: middle;\n",
       "    }\n",
       "\n",
       "    .dataframe tbody tr th {\n",
       "        vertical-align: top;\n",
       "    }\n",
       "\n",
       "    .dataframe thead th {\n",
       "        text-align: right;\n",
       "    }\n",
       "</style>\n",
       "<table border=\"1\" class=\"dataframe\">\n",
       "  <thead>\n",
       "    <tr style=\"text-align: right;\">\n",
       "      <th></th>\n",
       "      <th>id</th>\n",
       "      <th>name</th>\n",
       "      <th>created time</th>\n",
       "      <th>private/public</th>\n",
       "      <th>post count</th>\n",
       "      <th>Verified status</th>\n",
       "    </tr>\n",
       "  </thead>\n",
       "  <tbody>\n",
       "    <tr>\n",
       "      <th>0</th>\n",
       "      <td>1</td>\n",
       "      <td>Kenton_Kirlin</td>\n",
       "      <td>16-02-2017 18:22</td>\n",
       "      <td>yes</td>\n",
       "      <td>11</td>\n",
       "      <td>no</td>\n",
       "    </tr>\n",
       "    <tr>\n",
       "      <th>1</th>\n",
       "      <td>2</td>\n",
       "      <td>Andre_Purdy85</td>\n",
       "      <td>02-04-2017 17:11</td>\n",
       "      <td>no</td>\n",
       "      <td>7</td>\n",
       "      <td>no</td>\n",
       "    </tr>\n",
       "    <tr>\n",
       "      <th>2</th>\n",
       "      <td>3</td>\n",
       "      <td>Harley_Lind18</td>\n",
       "      <td>21-02-2017 11:12</td>\n",
       "      <td>no</td>\n",
       "      <td>2</td>\n",
       "      <td>no</td>\n",
       "    </tr>\n",
       "    <tr>\n",
       "      <th>3</th>\n",
       "      <td>4</td>\n",
       "      <td>Arely_Bogan63</td>\n",
       "      <td>13-08-2016 01:28</td>\n",
       "      <td>yes</td>\n",
       "      <td>1</td>\n",
       "      <td>no</td>\n",
       "    </tr>\n",
       "    <tr>\n",
       "      <th>4</th>\n",
       "      <td>5</td>\n",
       "      <td>Aniya_Hackett</td>\n",
       "      <td>07-12-2016 01:04</td>\n",
       "      <td>yes</td>\n",
       "      <td>3</td>\n",
       "      <td>no</td>\n",
       "    </tr>\n",
       "  </tbody>\n",
       "</table>\n",
       "</div>"
      ],
      "text/plain": [
       "   id           name      created time private/public  post count  \\\n",
       "0   1  Kenton_Kirlin  16-02-2017 18:22            yes          11   \n",
       "1   2  Andre_Purdy85  02-04-2017 17:11             no           7   \n",
       "2   3  Harley_Lind18  21-02-2017 11:12             no           2   \n",
       "3   4  Arely_Bogan63  13-08-2016 01:28            yes           1   \n",
       "4   5  Aniya_Hackett  07-12-2016 01:04            yes           3   \n",
       "\n",
       "  Verified status  \n",
       "0              no  \n",
       "1              no  \n",
       "2              no  \n",
       "3              no  \n",
       "4              no  "
      ]
     },
     "execution_count": 9,
     "metadata": {},
     "output_type": "execute_result"
    }
   ],
   "source": [
    "user.head()"
   ]
  },
  {
   "cell_type": "code",
   "execution_count": 10,
   "id": "ea42797d-b419-4b92-89f0-7e43360cdcf1",
   "metadata": {},
   "outputs": [],
   "source": [
    "#Drop unnecesarry columns\n",
    "comm=comm.drop(['created Timestamp','posted date'],axis=1)\n",
    "like=like.drop(['created time','following or not'],axis=1)\n",
    "photo=photo.drop(['image link','created dat'],axis=1)\n",
    "user=user.drop(['name','private/public'],axis=1)"
   ]
  },
  {
   "cell_type": "code",
   "execution_count": 11,
   "id": "34a39185-4fb7-4b6d-b881-5164b35c4ff7",
   "metadata": {},
   "outputs": [],
   "source": [
    "#Merge csv files\n",
    "df=tag.merge(foll,on='created time',how='left')"
   ]
  },
  {
   "cell_type": "code",
   "execution_count": 12,
   "id": "5b9322cc-7a0a-4ac5-874a-ee69b004c31a",
   "metadata": {},
   "outputs": [
    {
     "data": {
      "text/html": [
       "<div>\n",
       "<style scoped>\n",
       "    .dataframe tbody tr th:only-of-type {\n",
       "        vertical-align: middle;\n",
       "    }\n",
       "\n",
       "    .dataframe tbody tr th {\n",
       "        vertical-align: top;\n",
       "    }\n",
       "\n",
       "    .dataframe thead th {\n",
       "        text-align: right;\n",
       "    }\n",
       "</style>\n",
       "<table border=\"1\" class=\"dataframe\">\n",
       "  <thead>\n",
       "    <tr style=\"text-align: right;\">\n",
       "      <th></th>\n",
       "      <th>id</th>\n",
       "      <th>tag text</th>\n",
       "      <th>created time</th>\n",
       "      <th>location</th>\n",
       "      <th>follower</th>\n",
       "      <th>followee</th>\n",
       "      <th>is follower active</th>\n",
       "      <th>followee Acc status</th>\n",
       "      <th>comment</th>\n",
       "      <th>User  id</th>\n",
       "      <th>Photo id</th>\n",
       "      <th>emoji used</th>\n",
       "      <th>Hashtags used count</th>\n",
       "    </tr>\n",
       "  </thead>\n",
       "  <tbody>\n",
       "    <tr>\n",
       "      <th>0</th>\n",
       "      <td>1</td>\n",
       "      <td>sunset</td>\n",
       "      <td>13-04-2023 08:04</td>\n",
       "      <td>florida</td>\n",
       "      <td>2</td>\n",
       "      <td>1</td>\n",
       "      <td>1</td>\n",
       "      <td>Private</td>\n",
       "      <td>unde at dolorem</td>\n",
       "      <td>2</td>\n",
       "      <td>1</td>\n",
       "      <td>yes</td>\n",
       "      <td>1</td>\n",
       "    </tr>\n",
       "    <tr>\n",
       "      <th>1</th>\n",
       "      <td>1</td>\n",
       "      <td>sunset</td>\n",
       "      <td>13-04-2023 08:04</td>\n",
       "      <td>florida</td>\n",
       "      <td>2</td>\n",
       "      <td>3</td>\n",
       "      <td>0</td>\n",
       "      <td>private</td>\n",
       "      <td>unde at dolorem</td>\n",
       "      <td>2</td>\n",
       "      <td>1</td>\n",
       "      <td>yes</td>\n",
       "      <td>1</td>\n",
       "    </tr>\n",
       "    <tr>\n",
       "      <th>2</th>\n",
       "      <td>1</td>\n",
       "      <td>sunset</td>\n",
       "      <td>13-04-2023 08:04</td>\n",
       "      <td>florida</td>\n",
       "      <td>2</td>\n",
       "      <td>4</td>\n",
       "      <td>0</td>\n",
       "      <td>public</td>\n",
       "      <td>unde at dolorem</td>\n",
       "      <td>2</td>\n",
       "      <td>1</td>\n",
       "      <td>yes</td>\n",
       "      <td>1</td>\n",
       "    </tr>\n",
       "    <tr>\n",
       "      <th>3</th>\n",
       "      <td>1</td>\n",
       "      <td>sunset</td>\n",
       "      <td>13-04-2023 08:04</td>\n",
       "      <td>florida</td>\n",
       "      <td>2</td>\n",
       "      <td>5</td>\n",
       "      <td>0</td>\n",
       "      <td>private</td>\n",
       "      <td>unde at dolorem</td>\n",
       "      <td>2</td>\n",
       "      <td>1</td>\n",
       "      <td>yes</td>\n",
       "      <td>1</td>\n",
       "    </tr>\n",
       "    <tr>\n",
       "      <th>4</th>\n",
       "      <td>1</td>\n",
       "      <td>sunset</td>\n",
       "      <td>13-04-2023 08:04</td>\n",
       "      <td>florida</td>\n",
       "      <td>2</td>\n",
       "      <td>6</td>\n",
       "      <td>1</td>\n",
       "      <td>private</td>\n",
       "      <td>unde at dolorem</td>\n",
       "      <td>2</td>\n",
       "      <td>1</td>\n",
       "      <td>yes</td>\n",
       "      <td>1</td>\n",
       "    </tr>\n",
       "  </tbody>\n",
       "</table>\n",
       "</div>"
      ],
      "text/plain": [
       "   id tag text      created time location  follower  followee   \\\n",
       "0   1   sunset  13-04-2023 08:04  florida         2          1   \n",
       "1   1   sunset  13-04-2023 08:04  florida         2          3   \n",
       "2   1   sunset  13-04-2023 08:04  florida         2          4   \n",
       "3   1   sunset  13-04-2023 08:04  florida         2          5   \n",
       "4   1   sunset  13-04-2023 08:04  florida         2          6   \n",
       "\n",
       "   is follower active followee Acc status          comment  User  id  \\\n",
       "0                   1             Private  unde at dolorem         2   \n",
       "1                   0             private  unde at dolorem         2   \n",
       "2                   0              public  unde at dolorem         2   \n",
       "3                   0             private  unde at dolorem         2   \n",
       "4                   1             private  unde at dolorem         2   \n",
       "\n",
       "   Photo id emoji used  Hashtags used count  \n",
       "0         1        yes                    1  \n",
       "1         1        yes                    1  \n",
       "2         1        yes                    1  \n",
       "3         1        yes                    1  \n",
       "4         1        yes                    1  "
      ]
     },
     "execution_count": 12,
     "metadata": {},
     "output_type": "execute_result"
    }
   ],
   "source": [
    "df=df.merge(comm,on='id',how='left')\n",
    "df.head()"
   ]
  },
  {
   "cell_type": "code",
   "execution_count": 13,
   "id": "4dd18c4a-830d-4a98-a947-f23dbea8947d",
   "metadata": {},
   "outputs": [],
   "source": [
    "df.rename(columns={'User  id':'user id'},inplace=True)"
   ]
  },
  {
   "cell_type": "code",
   "execution_count": 14,
   "id": "34aa8bbb-58cf-4459-bb5c-76d0a34a58c2",
   "metadata": {},
   "outputs": [],
   "source": [
    "like.rename(columns={'user ':'user id','photo':'photo id'},inplace=True)"
   ]
  },
  {
   "cell_type": "code",
   "execution_count": 15,
   "id": "c1ee27d5-4c74-425c-8e04-e57c8bccc993",
   "metadata": {},
   "outputs": [
    {
     "data": {
      "text/html": [
       "<div>\n",
       "<style scoped>\n",
       "    .dataframe tbody tr th:only-of-type {\n",
       "        vertical-align: middle;\n",
       "    }\n",
       "\n",
       "    .dataframe tbody tr th {\n",
       "        vertical-align: top;\n",
       "    }\n",
       "\n",
       "    .dataframe thead th {\n",
       "        text-align: right;\n",
       "    }\n",
       "</style>\n",
       "<table border=\"1\" class=\"dataframe\">\n",
       "  <thead>\n",
       "    <tr style=\"text-align: right;\">\n",
       "      <th></th>\n",
       "      <th>id</th>\n",
       "      <th>tag text</th>\n",
       "      <th>created time</th>\n",
       "      <th>location</th>\n",
       "      <th>follower</th>\n",
       "      <th>followee</th>\n",
       "      <th>is follower active</th>\n",
       "      <th>followee Acc status</th>\n",
       "      <th>comment</th>\n",
       "      <th>user id</th>\n",
       "      <th>Photo id</th>\n",
       "      <th>emoji used</th>\n",
       "      <th>Hashtags used count</th>\n",
       "      <th>photo id</th>\n",
       "      <th>like type</th>\n",
       "    </tr>\n",
       "  </thead>\n",
       "  <tbody>\n",
       "    <tr>\n",
       "      <th>0</th>\n",
       "      <td>1</td>\n",
       "      <td>sunset</td>\n",
       "      <td>13-04-2023 08:04</td>\n",
       "      <td>florida</td>\n",
       "      <td>2</td>\n",
       "      <td>1</td>\n",
       "      <td>1</td>\n",
       "      <td>Private</td>\n",
       "      <td>unde at dolorem</td>\n",
       "      <td>2</td>\n",
       "      <td>1</td>\n",
       "      <td>yes</td>\n",
       "      <td>1</td>\n",
       "      <td>1</td>\n",
       "      <td>heart emoji</td>\n",
       "    </tr>\n",
       "    <tr>\n",
       "      <th>1</th>\n",
       "      <td>1</td>\n",
       "      <td>sunset</td>\n",
       "      <td>13-04-2023 08:04</td>\n",
       "      <td>florida</td>\n",
       "      <td>2</td>\n",
       "      <td>1</td>\n",
       "      <td>1</td>\n",
       "      <td>Private</td>\n",
       "      <td>unde at dolorem</td>\n",
       "      <td>2</td>\n",
       "      <td>1</td>\n",
       "      <td>yes</td>\n",
       "      <td>1</td>\n",
       "      <td>4</td>\n",
       "      <td>thumbs up</td>\n",
       "    </tr>\n",
       "    <tr>\n",
       "      <th>2</th>\n",
       "      <td>1</td>\n",
       "      <td>sunset</td>\n",
       "      <td>13-04-2023 08:04</td>\n",
       "      <td>florida</td>\n",
       "      <td>2</td>\n",
       "      <td>1</td>\n",
       "      <td>1</td>\n",
       "      <td>Private</td>\n",
       "      <td>unde at dolorem</td>\n",
       "      <td>2</td>\n",
       "      <td>1</td>\n",
       "      <td>yes</td>\n",
       "      <td>1</td>\n",
       "      <td>8</td>\n",
       "      <td>laughing</td>\n",
       "    </tr>\n",
       "    <tr>\n",
       "      <th>3</th>\n",
       "      <td>1</td>\n",
       "      <td>sunset</td>\n",
       "      <td>13-04-2023 08:04</td>\n",
       "      <td>florida</td>\n",
       "      <td>2</td>\n",
       "      <td>1</td>\n",
       "      <td>1</td>\n",
       "      <td>Private</td>\n",
       "      <td>unde at dolorem</td>\n",
       "      <td>2</td>\n",
       "      <td>1</td>\n",
       "      <td>yes</td>\n",
       "      <td>1</td>\n",
       "      <td>9</td>\n",
       "      <td>fire</td>\n",
       "    </tr>\n",
       "    <tr>\n",
       "      <th>4</th>\n",
       "      <td>1</td>\n",
       "      <td>sunset</td>\n",
       "      <td>13-04-2023 08:04</td>\n",
       "      <td>florida</td>\n",
       "      <td>2</td>\n",
       "      <td>1</td>\n",
       "      <td>1</td>\n",
       "      <td>Private</td>\n",
       "      <td>unde at dolorem</td>\n",
       "      <td>2</td>\n",
       "      <td>1</td>\n",
       "      <td>yes</td>\n",
       "      <td>1</td>\n",
       "      <td>10</td>\n",
       "      <td>clap</td>\n",
       "    </tr>\n",
       "  </tbody>\n",
       "</table>\n",
       "</div>"
      ],
      "text/plain": [
       "   id tag text      created time location  follower  followee   \\\n",
       "0   1   sunset  13-04-2023 08:04  florida         2          1   \n",
       "1   1   sunset  13-04-2023 08:04  florida         2          1   \n",
       "2   1   sunset  13-04-2023 08:04  florida         2          1   \n",
       "3   1   sunset  13-04-2023 08:04  florida         2          1   \n",
       "4   1   sunset  13-04-2023 08:04  florida         2          1   \n",
       "\n",
       "   is follower active followee Acc status          comment  user id  Photo id  \\\n",
       "0                   1             Private  unde at dolorem        2         1   \n",
       "1                   1             Private  unde at dolorem        2         1   \n",
       "2                   1             Private  unde at dolorem        2         1   \n",
       "3                   1             Private  unde at dolorem        2         1   \n",
       "4                   1             Private  unde at dolorem        2         1   \n",
       "\n",
       "  emoji used  Hashtags used count  photo id    like type  \n",
       "0        yes                    1         1  heart emoji  \n",
       "1        yes                    1         4    thumbs up  \n",
       "2        yes                    1         8     laughing  \n",
       "3        yes                    1         9         fire  \n",
       "4        yes                    1        10         clap  "
      ]
     },
     "execution_count": 15,
     "metadata": {},
     "output_type": "execute_result"
    }
   ],
   "source": [
    "df=df.merge(like,on='user id',how='left')\n",
    "df.head()"
   ]
  },
  {
   "cell_type": "code",
   "execution_count": 16,
   "id": "14b16eab-16f6-4507-990a-0f842ed36744",
   "metadata": {},
   "outputs": [],
   "source": [
    "df=df.merge(photo,on='id',how='left')"
   ]
  },
  {
   "cell_type": "code",
   "execution_count": 17,
   "id": "fc941806-2f06-463d-893b-a4d19842cd0c",
   "metadata": {},
   "outputs": [
    {
     "data": {
      "text/html": [
       "<div>\n",
       "<style scoped>\n",
       "    .dataframe tbody tr th:only-of-type {\n",
       "        vertical-align: middle;\n",
       "    }\n",
       "\n",
       "    .dataframe tbody tr th {\n",
       "        vertical-align: top;\n",
       "    }\n",
       "\n",
       "    .dataframe thead th {\n",
       "        text-align: right;\n",
       "    }\n",
       "</style>\n",
       "<table border=\"1\" class=\"dataframe\">\n",
       "  <thead>\n",
       "    <tr style=\"text-align: right;\">\n",
       "      <th></th>\n",
       "      <th>id</th>\n",
       "      <th>tag text</th>\n",
       "      <th>created time_x</th>\n",
       "      <th>location</th>\n",
       "      <th>follower</th>\n",
       "      <th>followee</th>\n",
       "      <th>is follower active</th>\n",
       "      <th>followee Acc status</th>\n",
       "      <th>comment</th>\n",
       "      <th>user id</th>\n",
       "      <th>...</th>\n",
       "      <th>emoji used</th>\n",
       "      <th>Hashtags used count</th>\n",
       "      <th>photo id</th>\n",
       "      <th>like type</th>\n",
       "      <th>user ID</th>\n",
       "      <th>Insta filter used</th>\n",
       "      <th>photo type</th>\n",
       "      <th>created time_y</th>\n",
       "      <th>post count</th>\n",
       "      <th>Verified status</th>\n",
       "    </tr>\n",
       "  </thead>\n",
       "  <tbody>\n",
       "    <tr>\n",
       "      <th>0</th>\n",
       "      <td>1</td>\n",
       "      <td>sunset</td>\n",
       "      <td>13-04-2023 08:04</td>\n",
       "      <td>florida</td>\n",
       "      <td>2</td>\n",
       "      <td>1</td>\n",
       "      <td>1</td>\n",
       "      <td>Private</td>\n",
       "      <td>unde at dolorem</td>\n",
       "      <td>2</td>\n",
       "      <td>...</td>\n",
       "      <td>yes</td>\n",
       "      <td>1</td>\n",
       "      <td>1</td>\n",
       "      <td>heart emoji</td>\n",
       "      <td>1</td>\n",
       "      <td>yes</td>\n",
       "      <td>photo</td>\n",
       "      <td>16-02-2017 18:22</td>\n",
       "      <td>11</td>\n",
       "      <td>no</td>\n",
       "    </tr>\n",
       "    <tr>\n",
       "      <th>1</th>\n",
       "      <td>1</td>\n",
       "      <td>sunset</td>\n",
       "      <td>13-04-2023 08:04</td>\n",
       "      <td>florida</td>\n",
       "      <td>2</td>\n",
       "      <td>1</td>\n",
       "      <td>1</td>\n",
       "      <td>Private</td>\n",
       "      <td>unde at dolorem</td>\n",
       "      <td>2</td>\n",
       "      <td>...</td>\n",
       "      <td>yes</td>\n",
       "      <td>1</td>\n",
       "      <td>4</td>\n",
       "      <td>thumbs up</td>\n",
       "      <td>1</td>\n",
       "      <td>yes</td>\n",
       "      <td>photo</td>\n",
       "      <td>16-02-2017 18:22</td>\n",
       "      <td>11</td>\n",
       "      <td>no</td>\n",
       "    </tr>\n",
       "    <tr>\n",
       "      <th>2</th>\n",
       "      <td>1</td>\n",
       "      <td>sunset</td>\n",
       "      <td>13-04-2023 08:04</td>\n",
       "      <td>florida</td>\n",
       "      <td>2</td>\n",
       "      <td>1</td>\n",
       "      <td>1</td>\n",
       "      <td>Private</td>\n",
       "      <td>unde at dolorem</td>\n",
       "      <td>2</td>\n",
       "      <td>...</td>\n",
       "      <td>yes</td>\n",
       "      <td>1</td>\n",
       "      <td>8</td>\n",
       "      <td>laughing</td>\n",
       "      <td>1</td>\n",
       "      <td>yes</td>\n",
       "      <td>photo</td>\n",
       "      <td>16-02-2017 18:22</td>\n",
       "      <td>11</td>\n",
       "      <td>no</td>\n",
       "    </tr>\n",
       "    <tr>\n",
       "      <th>3</th>\n",
       "      <td>1</td>\n",
       "      <td>sunset</td>\n",
       "      <td>13-04-2023 08:04</td>\n",
       "      <td>florida</td>\n",
       "      <td>2</td>\n",
       "      <td>1</td>\n",
       "      <td>1</td>\n",
       "      <td>Private</td>\n",
       "      <td>unde at dolorem</td>\n",
       "      <td>2</td>\n",
       "      <td>...</td>\n",
       "      <td>yes</td>\n",
       "      <td>1</td>\n",
       "      <td>9</td>\n",
       "      <td>fire</td>\n",
       "      <td>1</td>\n",
       "      <td>yes</td>\n",
       "      <td>photo</td>\n",
       "      <td>16-02-2017 18:22</td>\n",
       "      <td>11</td>\n",
       "      <td>no</td>\n",
       "    </tr>\n",
       "    <tr>\n",
       "      <th>4</th>\n",
       "      <td>1</td>\n",
       "      <td>sunset</td>\n",
       "      <td>13-04-2023 08:04</td>\n",
       "      <td>florida</td>\n",
       "      <td>2</td>\n",
       "      <td>1</td>\n",
       "      <td>1</td>\n",
       "      <td>Private</td>\n",
       "      <td>unde at dolorem</td>\n",
       "      <td>2</td>\n",
       "      <td>...</td>\n",
       "      <td>yes</td>\n",
       "      <td>1</td>\n",
       "      <td>10</td>\n",
       "      <td>clap</td>\n",
       "      <td>1</td>\n",
       "      <td>yes</td>\n",
       "      <td>photo</td>\n",
       "      <td>16-02-2017 18:22</td>\n",
       "      <td>11</td>\n",
       "      <td>no</td>\n",
       "    </tr>\n",
       "  </tbody>\n",
       "</table>\n",
       "<p>5 rows × 21 columns</p>\n",
       "</div>"
      ],
      "text/plain": [
       "   id tag text    created time_x location  follower  followee   \\\n",
       "0   1   sunset  13-04-2023 08:04  florida         2          1   \n",
       "1   1   sunset  13-04-2023 08:04  florida         2          1   \n",
       "2   1   sunset  13-04-2023 08:04  florida         2          1   \n",
       "3   1   sunset  13-04-2023 08:04  florida         2          1   \n",
       "4   1   sunset  13-04-2023 08:04  florida         2          1   \n",
       "\n",
       "   is follower active followee Acc status          comment  user id  ...  \\\n",
       "0                   1             Private  unde at dolorem        2  ...   \n",
       "1                   1             Private  unde at dolorem        2  ...   \n",
       "2                   1             Private  unde at dolorem        2  ...   \n",
       "3                   1             Private  unde at dolorem        2  ...   \n",
       "4                   1             Private  unde at dolorem        2  ...   \n",
       "\n",
       "   emoji used Hashtags used count  photo id    like type user ID  \\\n",
       "0         yes                   1         1  heart emoji       1   \n",
       "1         yes                   1         4    thumbs up       1   \n",
       "2         yes                   1         8     laughing       1   \n",
       "3         yes                   1         9         fire       1   \n",
       "4         yes                   1        10         clap       1   \n",
       "\n",
       "   Insta filter used photo type    created time_y post count  Verified status  \n",
       "0                yes      photo  16-02-2017 18:22         11               no  \n",
       "1                yes      photo  16-02-2017 18:22         11               no  \n",
       "2                yes      photo  16-02-2017 18:22         11               no  \n",
       "3                yes      photo  16-02-2017 18:22         11               no  \n",
       "4                yes      photo  16-02-2017 18:22         11               no  \n",
       "\n",
       "[5 rows x 21 columns]"
      ]
     },
     "execution_count": 17,
     "metadata": {},
     "output_type": "execute_result"
    }
   ],
   "source": [
    "df=df.merge(user,on='id',how='left')\n",
    "df.head()"
   ]
  },
  {
   "cell_type": "code",
   "execution_count": 18,
   "id": "e86f97a8-3394-428b-9e76-1ff51e563a84",
   "metadata": {},
   "outputs": [
    {
     "data": {
      "text/plain": [
       "(29287566, 21)"
      ]
     },
     "execution_count": 18,
     "metadata": {},
     "output_type": "execute_result"
    }
   ],
   "source": [
    "df.shape"
   ]
  },
  {
   "cell_type": "code",
   "execution_count": 19,
   "id": "363d381a-7eef-465c-8614-99b985e3ff20",
   "metadata": {},
   "outputs": [
    {
     "name": "stdout",
     "output_type": "stream",
     "text": [
      "<class 'pandas.core.frame.DataFrame'>\n",
      "RangeIndex: 29287566 entries, 0 to 29287565\n",
      "Data columns (total 21 columns):\n",
      " #   Column               Dtype \n",
      "---  ------               ----- \n",
      " 0   id                   int64 \n",
      " 1   tag text             object\n",
      " 2   created time_x       object\n",
      " 3   location             object\n",
      " 4   follower             int64 \n",
      " 5   followee             int64 \n",
      " 6   is follower active   int64 \n",
      " 7   followee Acc status  object\n",
      " 8   comment              object\n",
      " 9   user id              int64 \n",
      " 10  Photo id             int64 \n",
      " 11  emoji used           object\n",
      " 12  Hashtags used count  int64 \n",
      " 13  photo id             int64 \n",
      " 14  like type            object\n",
      " 15  user ID              int64 \n",
      " 16  Insta filter used    object\n",
      " 17  photo type           object\n",
      " 18  created time_y       object\n",
      " 19  post count           int64 \n",
      " 20  Verified status      object\n",
      "dtypes: int64(10), object(11)\n",
      "memory usage: 4.6+ GB\n"
     ]
    }
   ],
   "source": [
    "df.info()"
   ]
  },
  {
   "cell_type": "code",
   "execution_count": 20,
   "id": "a62a7afe-9ef8-4f5a-bed9-960b98301471",
   "metadata": {},
   "outputs": [
    {
     "data": {
      "text/plain": [
       "follower\n",
       "2      380358\n",
       "3      380358\n",
       "4      380358\n",
       "5      380358\n",
       "6      380358\n",
       "        ...  \n",
       "96     380358\n",
       "97     380358\n",
       "98     380358\n",
       "99     380358\n",
       "100    380358\n",
       "Name: count, Length: 77, dtype: int64"
      ]
     },
     "execution_count": 20,
     "metadata": {},
     "output_type": "execute_result"
    }
   ],
   "source": [
    "df['follower'].value_counts()"
   ]
  },
  {
   "cell_type": "code",
   "execution_count": 21,
   "id": "da08dda1-6a34-41e0-a54d-f04a5f158848",
   "metadata": {},
   "outputs": [
    {
     "data": {
      "text/plain": [
       "Photo id\n",
       "1    29287566\n",
       "Name: count, dtype: int64"
      ]
     },
     "execution_count": 21,
     "metadata": {},
     "output_type": "execute_result"
    }
   ],
   "source": [
    "df['Photo id'].value_counts()"
   ]
  },
  {
   "cell_type": "code",
   "execution_count": 22,
   "id": "45dcff15-8595-49ec-a0ab-403bbbf5b79f",
   "metadata": {},
   "outputs": [
    {
     "data": {
      "text/plain": [
       "user ID\n",
       "6    8484399\n",
       "2    6548157\n",
       "1    5831595\n",
       "3    5160771\n",
       "4    3262644\n",
       "Name: count, dtype: int64"
      ]
     },
     "execution_count": 22,
     "metadata": {},
     "output_type": "execute_result"
    }
   ],
   "source": [
    "df['user ID'].value_counts()"
   ]
  },
  {
   "cell_type": "code",
   "execution_count": 23,
   "id": "cadcb022-a5c3-4e6a-b370-99188edab296",
   "metadata": {},
   "outputs": [],
   "source": [
    "#dropping columns\n",
    "df=df.drop(['created time_x','follower','followee ','Photo id','user ID'],axis=1)"
   ]
  },
  {
   "cell_type": "code",
   "execution_count": 24,
   "id": "4c1b2052-415f-42f5-b761-d8be00576b25",
   "metadata": {},
   "outputs": [
    {
     "data": {
      "text/plain": [
       "id                     0\n",
       "tag text               0\n",
       "location               0\n",
       "is follower active     0\n",
       "followee Acc status    0\n",
       "comment                0\n",
       "user id                0\n",
       "emoji used             0\n",
       "Hashtags used count    0\n",
       "photo id               0\n",
       "like type              0\n",
       "Insta filter used      0\n",
       "photo type             0\n",
       "created time_y         0\n",
       "post count             0\n",
       "Verified status        0\n",
       "dtype: int64"
      ]
     },
     "execution_count": 24,
     "metadata": {},
     "output_type": "execute_result"
    }
   ],
   "source": [
    "df.isnull().sum()"
   ]
  },
  {
   "cell_type": "code",
   "execution_count": 25,
   "id": "6a857374-240d-4854-bcf5-5326a84643d1",
   "metadata": {},
   "outputs": [
    {
     "data": {
      "text/plain": [
       "followee Acc status\n",
       "public     11733468\n",
       "private    11714258\n",
       "Private     5839840\n",
       "Name: count, dtype: int64"
      ]
     },
     "execution_count": 25,
     "metadata": {},
     "output_type": "execute_result"
    }
   ],
   "source": [
    "#Handling followee Acc status column\n",
    "df['followee Acc status'].value_counts()"
   ]
  },
  {
   "cell_type": "code",
   "execution_count": 26,
   "id": "bf027646-585c-4bc6-a37e-875439043a6e",
   "metadata": {},
   "outputs": [
    {
     "data": {
      "text/plain": [
       "followee Acc status\n",
       "private    17554098\n",
       "public     11733468\n",
       "Name: count, dtype: int64"
      ]
     },
     "execution_count": 26,
     "metadata": {},
     "output_type": "execute_result"
    }
   ],
   "source": [
    "df['followee Acc status']=df['followee Acc status'].str.lower()\n",
    "df['followee Acc status'].value_counts()"
   ]
  },
  {
   "cell_type": "code",
   "execution_count": 27,
   "id": "252dffed-9d1f-4127-ad7d-df123c6701df",
   "metadata": {},
   "outputs": [
    {
     "data": {
      "text/plain": [
       "array([1, 2, 4, 0, 5, 6, 3])"
      ]
     },
     "execution_count": 27,
     "metadata": {},
     "output_type": "execute_result"
    }
   ],
   "source": [
    "df['Hashtags used count'].unique()"
   ]
  },
  {
   "cell_type": "code",
   "execution_count": 28,
   "id": "fb36e638-f539-4527-9b5e-f7bbe320d07f",
   "metadata": {},
   "outputs": [
    {
     "data": {
      "text/plain": [
       "array(['photo', 'video'], dtype=object)"
      ]
     },
     "execution_count": 28,
     "metadata": {},
     "output_type": "execute_result"
    }
   ],
   "source": [
    "df['photo type'].unique()"
   ]
  },
  {
   "cell_type": "code",
   "execution_count": 29,
   "id": "47cba357-d0be-47da-a317-b4621d5cdaf9",
   "metadata": {},
   "outputs": [
    {
     "data": {
      "text/plain": [
       "<Axes: title={'center': 'posts per hour'}, xlabel='post_hour'>"
      ]
     },
     "execution_count": 29,
     "metadata": {},
     "output_type": "execute_result"
    },
    {
     "data": {
      "image/png": "[encoded data removed]",
      "text/plain": [
       "<Figure size 640x480 with 1 Axes>"
      ]
     },
     "metadata": {},
     "output_type": "display_data"
    }
   ],
   "source": [
    "#visualizing no. of posts per hour \n",
    "df['created time']=pd.to_datetime(df['created time_y'],dayfirst=True,errors='coerce')\n",
    "df['post_hour']=df['created time'].dt.hour\n",
    "df['post_hour'].value_counts().sort_index().plot(kind = 'bar',title='posts per hour')"
   ]
  },
  {
   "cell_type": "code",
   "execution_count": 30,
   "id": "ba22a4b5-8744-4e1c-b4f9-f2dd65a74835",
   "metadata": {},
   "outputs": [
    {
     "data": {
      "image/png": "[encoded data removed]",
      "text/plain": [
       "<Figure size 600x600 with 1 Axes>"
      ]
     },
     "metadata": {},
     "output_type": "display_data"
    }
   ],
   "source": [
    "#Visualizing is follower active or not\n",
    "plt.figure(figsize = (6,6))\n",
    "ax = sns.countplot(data=df, x='is follower active',hue='is follower active',palette='inferno',legend=False)\n",
    "plt.xlabel('Follower active or not')\n",
    "plt.ylabel('Count')\n",
    "plt.tight_layout()\n",
    "plt.show()"
   ]
  },
  {
   "cell_type": "code",
   "execution_count": 31,
   "id": "847e25e1-62ca-4d3b-80ad-256de4c1a3bb",
   "metadata": {},
   "outputs": [
    {
     "data": {
      "image/png": "[encoded data removed]",
      "text/plain": [
       "<Figure size 800x500 with 1 Axes>"
      ]
     },
     "metadata": {},
     "output_type": "display_data"
    }
   ],
   "source": [
    "#visualizing top active users\n",
    "top_users=df['user id'].value_counts().sort_index()\n",
    "plt.figure(figsize=(8,5))\n",
    "top_users.plot(kind='bar',color='orange')\n",
    "plt.title('Top 50 active users')\n",
    "plt.xlabel(\"User id\")\n",
    "plt.ylabel(\"Number of posts\")\n",
    "plt.tight_layout()"
   ]
  },
  {
   "cell_type": "code",
   "execution_count": 32,
   "id": "f5282933-4802-4cc8-8431-06abaa151925",
   "metadata": {},
   "outputs": [
    {
     "data": {
      "text/plain": [
       "Text(0, 0.5, 'Count')"
      ]
     },
     "execution_count": 32,
     "metadata": {},
     "output_type": "execute_result"
    },
    {
     "data": {
      "image/png": "[encoded data removed]",
      "text/plain": [
       "<Figure size 600x600 with 1 Axes>"
      ]
     },
     "metadata": {},
     "output_type": "display_data"
    }
   ],
   "source": [
    "#Visualising followee account status\n",
    "plt.figure(figsize = (6,6))\n",
    "ax = sns.countplot(data=df, x='followee Acc status',hue='followee Acc status',palette='Pastel1',legend=False)\n",
    "plt.xlabel('Followee Account Status')\n",
    "plt.ylabel('Count')"
   ]
  },
  {
   "cell_type": "code",
   "execution_count": 33,
   "id": "4cfb16ac-cf2c-4c09-8966-16662c444c76",
   "metadata": {},
   "outputs": [
    {
     "data": {
      "text/plain": [
       "<Axes: title={'center': 'Hashtags Usage Distribution'}, ylabel='Frequency'>"
      ]
     },
     "execution_count": 33,
     "metadata": {},
     "output_type": "execute_result"
    },
    {
     "data": {
      "image/png": "[encoded data removed]",
      "text/plain": [
       "<Figure size 640x480 with 1 Axes>"
      ]
     },
     "metadata": {},
     "output_type": "display_data"
    }
   ],
   "source": [
    "#Count plot of Numbers of hashtags used\n",
    "df['Hashtags used count'].plot(kind='hist',bins=20,title='Hashtags Usage Distribution')"
   ]
  },
  {
   "cell_type": "code",
   "execution_count": 34,
   "id": "a641d49d-1765-4cef-9238-1b44f456c5b2",
   "metadata": {},
   "outputs": [
    {
     "data": {
      "text/plain": [
       "Text(0, 0.5, 'Count')"
      ]
     },
     "execution_count": 34,
     "metadata": {},
     "output_type": "execute_result"
    },
    {
     "data": {
      "image/png": "[encoded data removed]",
      "text/plain": [
       "<Figure size 600x600 with 1 Axes>"
      ]
     },
     "metadata": {},
     "output_type": "display_data"
    }
   ],
   "source": [
    "#count verified vs non-verified user\n",
    "plt.figure(figsize = (6,6))\n",
    "ax = sns.countplot(data=df, x='Verified status',hue='Verified status',palette='Set2',legend=False)\n",
    "plt.title('Verified vs non-verified users')\n",
    "plt.xlabel('Verified vs Non-verified')\n",
    "plt.ylabel('Count')"
   ]
  },
  {
   "cell_type": "code",
   "execution_count": 35,
   "id": "35aff4c0-c0b4-4195-a116-d74c29c59cb9",
   "metadata": {},
   "outputs": [
    {
     "data": {
      "text/plain": [
       "([0, 1, 2, 3, 4, 5, 6, 7, 8],\n",
       " [Text(0, 0, 'london'),\n",
       "  Text(1, 0, 'florida'),\n",
       "  Text(2, 0, 'washington DC'),\n",
       "  Text(3, 0, 'japan'),\n",
       "  Text(4, 0, 'new york'),\n",
       "  Text(5, 0, 'Mumbai'),\n",
       "  Text(6, 0, 'australia'),\n",
       "  Text(7, 0, 'bangalore'),\n",
       "  Text(8, 0, 'brazil')])"
      ]
     },
     "execution_count": 35,
     "metadata": {},
     "output_type": "execute_result"
    },
    {
     "data": {
      "image/png": "[encoded data removed]",
      "text/plain": [
       "<Figure size 800x800 with 1 Axes>"
      ]
     },
     "metadata": {},
     "output_type": "display_data"
    }
   ],
   "source": [
    "#Count plot of varios locations\n",
    "plt.figure(figsize = (8,8))\n",
    "ax = sns.countplot(data=df, x='location',hue='location',order=df['location'].value_counts().index ,palette='Reds',legend=False)\n",
    "plt.xlabel('Location')\n",
    "plt.ylabel('Count')\n",
    "plt.xticks(rotation=90)"
   ]
  },
  {
   "cell_type": "code",
   "execution_count": 36,
   "id": "06515f72-2aa0-4f3a-aff9-d9661e2b94d6",
   "metadata": {},
   "outputs": [
    {
     "data": {
      "image/png": "[encoded data removed]",
      "text/plain": [
       "<Figure size 600x600 with 1 Axes>"
      ]
     },
     "metadata": {},
     "output_type": "display_data"
    }
   ],
   "source": [
    "#visulazing emoji usage vs number of comments\n",
    "emoji_group=df.groupby('emoji used')['comment'].count()\n",
    "plt.figure(figsize=(6,6))\n",
    "emoji_group.plot(kind='bar',color='purple')\n",
    "plt.xlabel('Emoji used')\n",
    "plt.ylabel('Number of comments')\n",
    "plt.tight_layout()\n",
    "plt.show()"
   ]
  },
  {
   "cell_type": "code",
   "execution_count": 40,
   "id": "a384a0b8-32ba-47e3-aeb0-f21a7ebcd77b",
   "metadata": {},
   "outputs": [
    {
     "data": {
      "text/plain": [
       "([0, 1, 2, 3, 4, 5, 6, 7, 8, 9],\n",
       " [Text(0, 0, '1'),\n",
       "  Text(1, 0, '2'),\n",
       "  Text(2, 0, '3'),\n",
       "  Text(3, 0, '4'),\n",
       "  Text(4, 0, '5'),\n",
       "  Text(5, 0, '6'),\n",
       "  Text(6, 0, '7'),\n",
       "  Text(7, 0, '8'),\n",
       "  Text(8, 0, '9'),\n",
       "  Text(9, 0, '10')])"
      ]
     },
     "execution_count": 40,
     "metadata": {},
     "output_type": "execute_result"
    },
    {
     "data": {
      "image/png": "[encoded data removed]",
      "text/plain": [
       "<Figure size 600x600 with 1 Axes>"
      ]
     },
     "metadata": {},
     "output_type": "display_data"
    }
   ],
   "source": [
    "#Visualzing top 10 most commenntd photos\n",
    "df1 = df[['photo id','comment']]\n",
    "df2 = df1.groupby(['photo id'])['comment'].count().head(10)\n",
    "df2 = df2.to_frame()\n",
    "plt.figure(figsize = (6,6))\n",
    "sns.barplot(data=df2,x='photo id' ,y='comment',hue='photo id',palette='mako',legend=False)\n",
    "plt.title('Top 10 most commented photos')\n",
    "plt.xticks(rotation=90)"
   ]
  },
  {
   "cell_type": "code",
   "execution_count": 38,
   "id": "d85f33b6-d73f-4f75-bfbb-3e800d39f056",
   "metadata": {},
   "outputs": [
    {
     "data": {
      "text/plain": [
       "([0, 1], [Text(0, 0, 'no'), Text(1, 0, 'yes')])"
      ]
     },
     "execution_count": 38,
     "metadata": {},
     "output_type": "execute_result"
    },
    {
     "data": {
      "image/png": "[encoded data removed]",
      "text/plain": [
       "<Figure size 600x600 with 1 Axes>"
      ]
     },
     "metadata": {},
     "output_type": "display_data"
    }
   ],
   "source": [
    "#Count plot of Insta filter used\n",
    "df3 = df[['Insta filter used','user id']]\n",
    "df4 = df3.groupby(['Insta filter used'])['user id'].count().head(10)\n",
    "df4 = df4.to_frame()\n",
    "plt.figure(figsize = (6,6))\n",
    "sns.barplot(data=df4,x='Insta filter used' ,y='user id',hue='Insta filter used',palette='viridis',legend=False)\n",
    "plt.xticks(rotation=90)"
   ]
  },
  {
   "cell_type": "code",
   "execution_count": 39,
   "id": "0daeb4e6-5762-466b-a9f7-564b62751915",
   "metadata": {},
   "outputs": [
    {
     "data": {
      "text/plain": [
       "([0, 1, 2, 3, 4, 5, 6],\n",
       " [Text(0, 0, 'heart emoji'),\n",
       "  Text(1, 0, 'thumbs up'),\n",
       "  Text(2, 0, 'laughing'),\n",
       "  Text(3, 0, 'fire'),\n",
       "  Text(4, 0, 'clap'),\n",
       "  Text(5, 0, 'single tap'),\n",
       "  Text(6, 0, 'double tap')])"
      ]
     },
     "execution_count": 39,
     "metadata": {},
     "output_type": "execute_result"
    },
    {
     "data": {
      "image/png": "[encoded data removed]",
      "text/plain": [
       "<Figure size 500x500 with 1 Axes>"
      ]
     },
     "metadata": {},
     "output_type": "display_data"
    }
   ],
   "source": [
    "#Count plot of varios like types\n",
    "plt.figure(figsize = (5,5))\n",
    "ax = sns.countplot(data=df, x='like type',hue='like type' ,palette='Accent',legend=False)\n",
    "plt.xlabel('Like Type')\n",
    "plt.ylabel('Count')\n",
    "plt.xticks(rotation=90)"
   ]
  },
  {
   "cell_type": "code",
   "execution_count": 41,
   "id": "00b0c47d-e656-455c-825a-8a388d225e55",
   "metadata": {},
   "outputs": [
    {
     "data": {
      "image/png": "[encoded data removed]",
      "text/plain": [
       "<Figure size 600x600 with 1 Axes>"
      ]
     },
     "metadata": {},
     "output_type": "display_data"
    }
   ],
   "source": [
    "#Visualizing Types of posts \n",
    "grouped_data=df.groupby(['photo type'])['photo id'].count()\n",
    "grouped_data=grouped_data.to_frame()\n",
    "plt.figure(figsize = (6,6))\n",
    "sns.barplot(x = 'photo type', y = 'photo id', hue = 'photo type',data = grouped_data, palette='deep',legend = False)\n",
    "plt.xlabel('Type of photo')\n",
    "plt.ylabel('Photo id')\n",
    "plt.tight_layout()\n",
    "plt.show()"
   ]
  },
  {
   "cell_type": "code",
   "execution_count": 42,
   "id": "970ef0df-cc2e-4ad8-a372-4dfaf6676533",
   "metadata": {},
   "outputs": [
    {
     "data": {
      "image/png": "[encoded data removed]",
      "text/plain": [
       "<Figure size 600x600 with 1 Axes>"
      ]
     },
     "metadata": {},
     "output_type": "display_data"
    }
   ],
   "source": [
    "#Visualizing no. of posts per user\n",
    "grouped=df.groupby(['post count'])['user id'].count()\n",
    "grouped=grouped.to_frame()\n",
    "plt.figure(figsize = (6,6))\n",
    "sns.barplot(x = 'post count', y = 'user id', hue = 'post count',data = grouped, palette='Paired',legend = False)\n",
    "plt.xlabel('No. of posts per user')\n",
    "plt.ylabel('User id')\n",
    "plt.tight_layout()\n",
    "plt.show()"
   ]
  }
 ],
 "metadata": {
  "kernelspec": {
   "display_name": "Python 3 (ipykernel)",
   "language": "python",
   "name": "python3"
  },
  "language_info": {
   "codemirror_mode": {
    "name": "ipython",
    "version": 3
   },
   "file_extension": ".py",
   "mimetype": "text/x-python",
   "name": "python",
   "nbconvert_exporter": "python",
   "pygments_lexer": "ipython3",
   "version": "3.13.0"
  }
 },
 "nbformat": 4,
 "nbformat_minor": 5
}
